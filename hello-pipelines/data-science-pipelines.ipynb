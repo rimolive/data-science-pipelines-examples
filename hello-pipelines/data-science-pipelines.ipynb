{
 "cells": [
  {
   "cell_type": "markdown",
   "id": "b384b1e6-172e-43c0-b01b-f459a633c47a",
   "metadata": {},
   "source": [
    "# Data Science Pipelines Example\n",
    "\n",
    "## Install the pre-requisites"
   ]
  },
  {
   "cell_type": "code",
   "execution_count": null,
   "id": "c8f552dc-4b3d-41f9-9076-90dac7b36e0e",
   "metadata": {},
   "outputs": [],
   "source": [
    "!pip install -U pandas"
   ]
  },
  {
   "cell_type": "markdown",
   "id": "0f7c05a8-63ef-42c3-992a-66af2d573850",
   "metadata": {},
   "source": [
    "## Python imports"
   ]
  },
  {
   "cell_type": "code",
   "execution_count": 4,
   "id": "d7cd874b-ead5-45ff-b46d-e9b31f7b6cea",
   "metadata": {},
   "outputs": [],
   "source": [
    "import kfp\n",
    "import kfp.components as components\n",
    "import kfp.dsl as dsl\n",
    "\n",
    "import glob\n",
    "import pandas as pd\n",
    "import requests\n",
    "import io\n",
    "import zipfile\n",
    "import re"
   ]
  },
  {
   "cell_type": "markdown",
   "id": "3423564d-fd44-476f-af57-1099e1274e8d",
   "metadata": {},
   "source": [
    "## Python functions to process data and train models"
   ]
  },
  {
   "cell_type": "code",
   "execution_count": 5,
   "id": "26436ed4-66f8-4383-9ed5-145b799a4109",
   "metadata": {},
   "outputs": [],
   "source": [
    "def ingest_data() -> str:\n",
    "    return \"Ingest Data\"\n",
    "\n",
    "def preprocess_data(msg: str) -> str:\n",
    "    return \"preprocessed data\"\n",
    "\n",
    "def train_model_A(msg: str):\n",
    "    print(\"Model A\")\n",
    "\n",
    "def train_model_B(msg: str):\n",
    "    print(\"Model B\")"
   ]
  },
  {
   "cell_type": "markdown",
   "id": "34fed55b-d2fe-45a4-85d4-53daf76e61a3",
   "metadata": {},
   "source": [
    "## Creating the pipeline components"
   ]
  },
  {
   "cell_type": "code",
   "execution_count": 6,
   "id": "dcfbad45-a1c3-4262-9bb1-f5ad49227638",
   "metadata": {},
   "outputs": [],
   "source": [
    "ingest_data_step = components.create_component_from_func(\n",
    "    func=ingest_data,\n",
    "    base_image=\"registry.redhat.io/ubi8/python-39\",\n",
    "    packages_to_install=['pandas'],)\n",
    "preprocess_data_step = components.create_component_from_func(\n",
    "    func=preprocess_data,\n",
    "    base_image=\"registry.redhat.io/ubi8/python-39\",\n",
    "    packages_to_install=['pandas'],)\n",
    "train_model_A_step = components.create_component_from_func(\n",
    "    func=train_model_A,\n",
    "    base_image=\"registry.redhat.io/ubi8/python-39\",\n",
    "    packages_to_install=['pandas'],)\n",
    "train_model_B_step = components.create_component_from_func(\n",
    "    func=train_model_B,\n",
    "    base_image=\"registry.redhat.io/ubi8/python-39\",\n",
    "    packages_to_install=['pandas'],)"
   ]
  },
  {
   "cell_type": "markdown",
   "id": "89613ac4-6104-414f-8cba-42fd8294d734",
   "metadata": {},
   "source": [
    "## Structure the Pipeline DAG"
   ]
  },
  {
   "cell_type": "code",
   "execution_count": 7,
   "id": "9889dd83-7b4c-4e94-b864-f9ae7990219c",
   "metadata": {},
   "outputs": [],
   "source": [
    "@dsl.pipeline(name=\"pipeline-test\")\n",
    "def world_cup_pipeline():\n",
    "    ingest_and_process_task = ingest_data_step()\n",
    "    preprocess_data_task = preprocess_data_step(ingest_and_process_task.output)\n",
    "    train_model_A_task = train_model_A_step(preprocess_data_task.output)\n",
    "    train_model_B_task = train_model_B_step(preprocess_data_task.output)"
   ]
  },
  {
   "cell_type": "markdown",
   "id": "645d53b0-651c-40bb-9e8d-b49078736737",
   "metadata": {},
   "source": [
    "## Deploy the pipeline\n",
    "\n",
    "### Creating the pipeline definition from the compiler"
   ]
  },
  {
   "cell_type": "code",
   "execution_count": null,
   "id": "028d2de3-8d31-44ef-9643-0b9cc2c3c97c",
   "metadata": {},
   "outputs": [],
   "source": [
    "from kfp_tekton.compiler import TektonCompiler\n",
    "TektonCompiler().compile(\n",
    "    pipeline_func = world_cup_pipeline,\n",
    "    package_path = ('data-science-pipelines.yaml'))"
   ]
  },
  {
   "cell_type": "markdown",
   "id": "b59bd66a-6560-415f-bdec-6ad6be2c7ccf",
   "metadata": {},
   "source": [
    "### Connect to the Data Science Pipelines server and submit a run"
   ]
  },
  {
   "cell_type": "code",
   "execution_count": 17,
   "id": "c0f78114-f818-42ee-bdaf-5c07339373d7",
   "metadata": {},
   "outputs": [
    {
     "ename": "ApiException",
     "evalue": "(404)\nReason: Not Found\nHTTP response headers: HTTPHeaderDict({'content-length': '10', 'content-type': 'text/plain; charset=utf-8', 'date': 'Tue, 11 Apr 2023 16:56:18 GMT', 'gap-auth': 'rmartine@redhat.com@cluster.local', 'gap-upstream-address': 'localhost:8888', 'x-content-type-options': 'nosniff', 'set-cookie': 'fa12d710db55c225795b04e1a8c3ea79=2ca3c4c963025cb0eb926e44f3e1c32a; path=/; HttpOnly; Secure; SameSite=None', 'cache-control': 'private'})\nHTTP response body: Not Found\n\n",
     "output_type": "error",
     "traceback": [
      "\u001b[0;31m---------------------------------------------------------------------------\u001b[0m",
      "\u001b[0;31mApiException\u001b[0m                              Traceback (most recent call last)",
      "Cell \u001b[0;32mIn[17], line 3\u001b[0m\n\u001b[1;32m      1\u001b[0m \u001b[39mfrom\u001b[39;00m \u001b[39mkfp_tekton\u001b[39;00m \u001b[39mimport\u001b[39;00m TektonClient\n\u001b[1;32m      2\u001b[0m \u001b[39m#kfp_client=TektonClient('http://ds-pipeline-kfpv1.apps.dsp-demo.i4g9.p1.openshiftapps.com')\u001b[39;00m\n\u001b[0;32m----> 3\u001b[0m kfp_client\u001b[39m=\u001b[39mTektonClient(\u001b[39m'\u001b[39;49m\u001b[39mhttps://ds-pipeline-sample-test-project.apps.hukhan.10ak.s1.devshift.org\u001b[39;49m\u001b[39m'\u001b[39;49m, existing_token\u001b[39m=\u001b[39;49m\u001b[39m\"\u001b[39;49m\u001b[39msha256~lvJ46nY-VbNTdPZqlXKj9FI1oJNxEofz9nM0ZwIX5pk\u001b[39;49m\u001b[39m\"\u001b[39;49m, client_id\u001b[39m=\u001b[39;49m\u001b[39m\"\u001b[39;49m\u001b[39mgkdjhgad\u001b[39;49m\u001b[39m\"\u001b[39;49m)\n\u001b[1;32m      4\u001b[0m run_id \u001b[39m=\u001b[39m kfp_client\u001b[39m.\u001b[39mcreate_run_from_pipeline_func(world_cup_pipeline, arguments\u001b[39m=\u001b[39m{})\u001b[39m.\u001b[39mrun_id\n\u001b[1;32m      5\u001b[0m \u001b[39mprint\u001b[39m(\u001b[39m\"\u001b[39m\u001b[39mRun ID: \u001b[39m\u001b[39m\"\u001b[39m, run_id)\n",
      "File \u001b[0;32m~/.local/lib/python3.11/site-packages/kfp_tekton/_client.py:153\u001b[0m, in \u001b[0;36mTektonClient.__init__\u001b[0;34m(self, host, client_id, namespace, other_client_id, other_client_secret, existing_token, cookies, proxy, ssl_ca_cert, kube_context, credentials, ui_host)\u001b[0m\n\u001b[1;32m    149\u001b[0m \u001b[39mself\u001b[39m\u001b[39m.\u001b[39m_upload_api \u001b[39m=\u001b[39m kfp_server_api\u001b[39m.\u001b[39mapi\u001b[39m.\u001b[39mPipelineUploadServiceApi(\n\u001b[1;32m    150\u001b[0m     api_client)\n\u001b[1;32m    151\u001b[0m \u001b[39mself\u001b[39m\u001b[39m.\u001b[39m_healthz_api \u001b[39m=\u001b[39m kfp_server_api\u001b[39m.\u001b[39mapi\u001b[39m.\u001b[39mhealthz_service_api\u001b[39m.\u001b[39mHealthzServiceApi(\n\u001b[1;32m    152\u001b[0m     api_client)\n\u001b[0;32m--> 153\u001b[0m \u001b[39mif\u001b[39;00m \u001b[39mnot\u001b[39;00m \u001b[39mself\u001b[39m\u001b[39m.\u001b[39m_context_setting[\u001b[39m'\u001b[39m\u001b[39mnamespace\u001b[39m\u001b[39m'\u001b[39m] \u001b[39mand\u001b[39;00m \u001b[39mself\u001b[39;49m\u001b[39m.\u001b[39;49mget_kfp_healthz(\n\u001b[1;32m    154\u001b[0m )\u001b[39m.\u001b[39mmulti_user \u001b[39mis\u001b[39;00m \u001b[39mTrue\u001b[39;00m:\n\u001b[1;32m    155\u001b[0m     \u001b[39mtry\u001b[39;00m:\n\u001b[1;32m    156\u001b[0m         \u001b[39mwith\u001b[39;00m \u001b[39mopen\u001b[39m(kfp\u001b[39m.\u001b[39mClient\u001b[39m.\u001b[39mNAMESPACE_PATH, \u001b[39m'\u001b[39m\u001b[39mr\u001b[39m\u001b[39m'\u001b[39m) \u001b[39mas\u001b[39;00m f:\n",
      "File \u001b[0;32m~/.local/lib/python3.11/site-packages/kfp/_client.py:410\u001b[0m, in \u001b[0;36mClient.get_kfp_healthz\u001b[0;34m(self)\u001b[0m\n\u001b[1;32m    406\u001b[0m     \u001b[39mraise\u001b[39;00m \u001b[39mTimeoutError\u001b[39;00m(\n\u001b[1;32m    407\u001b[0m         \u001b[39m'\u001b[39m\u001b[39mFailed getting healthz endpoint after \u001b[39m\u001b[39m{}\u001b[39;00m\u001b[39m attempts.\u001b[39m\u001b[39m'\u001b[39m\u001b[39m.\u001b[39mformat(\n\u001b[1;32m    408\u001b[0m             max_attempts))\n\u001b[1;32m    409\u001b[0m \u001b[39mtry\u001b[39;00m:\n\u001b[0;32m--> 410\u001b[0m     response \u001b[39m=\u001b[39m \u001b[39mself\u001b[39;49m\u001b[39m.\u001b[39;49m_healthz_api\u001b[39m.\u001b[39;49mget_healthz()\n\u001b[1;32m    411\u001b[0m     \u001b[39mreturn\u001b[39;00m response\n\u001b[1;32m    412\u001b[0m \u001b[39m# ApiException, including network errors, is the only type that may\u001b[39;00m\n\u001b[1;32m    413\u001b[0m \u001b[39m# recover after retry.\u001b[39;00m\n",
      "File \u001b[0;32m~/.local/lib/python3.11/site-packages/kfp_tekton_server_api/api/healthz_service_api.py:63\u001b[0m, in \u001b[0;36mHealthzServiceApi.get_healthz\u001b[0;34m(self, **kwargs)\u001b[0m\n\u001b[1;32m     40\u001b[0m \u001b[39m\"\"\"Get healthz data.  # noqa: E501\u001b[39;00m\n\u001b[1;32m     41\u001b[0m \n\u001b[1;32m     42\u001b[0m \u001b[39mThis method makes a synchronous HTTP request by default. To make an\u001b[39;00m\n\u001b[0;32m   (...)\u001b[0m\n\u001b[1;32m     60\u001b[0m \u001b[39m:rtype: V1GetHealthzResponse\u001b[39;00m\n\u001b[1;32m     61\u001b[0m \u001b[39m\"\"\"\u001b[39;00m\n\u001b[1;32m     62\u001b[0m kwargs[\u001b[39m'\u001b[39m\u001b[39m_return_http_data_only\u001b[39m\u001b[39m'\u001b[39m] \u001b[39m=\u001b[39m \u001b[39mTrue\u001b[39;00m\n\u001b[0;32m---> 63\u001b[0m \u001b[39mreturn\u001b[39;00m \u001b[39mself\u001b[39;49m\u001b[39m.\u001b[39;49mget_healthz_with_http_info(\u001b[39m*\u001b[39;49m\u001b[39m*\u001b[39;49mkwargs)\n",
      "File \u001b[0;32m~/.local/lib/python3.11/site-packages/kfp_tekton_server_api/api/healthz_service_api.py:134\u001b[0m, in \u001b[0;36mHealthzServiceApi.get_healthz_with_http_info\u001b[0;34m(self, **kwargs)\u001b[0m\n\u001b[1;32m    131\u001b[0m \u001b[39m# Authentication setting\u001b[39;00m\n\u001b[1;32m    132\u001b[0m auth_settings \u001b[39m=\u001b[39m [\u001b[39m'\u001b[39m\u001b[39mBearer\u001b[39m\u001b[39m'\u001b[39m]  \u001b[39m# noqa: E501\u001b[39;00m\n\u001b[0;32m--> 134\u001b[0m \u001b[39mreturn\u001b[39;00m \u001b[39mself\u001b[39;49m\u001b[39m.\u001b[39;49mapi_client\u001b[39m.\u001b[39;49mcall_api(\n\u001b[1;32m    135\u001b[0m     \u001b[39m'\u001b[39;49m\u001b[39m/apis/v1/healthz\u001b[39;49m\u001b[39m'\u001b[39;49m, \u001b[39m'\u001b[39;49m\u001b[39mGET\u001b[39;49m\u001b[39m'\u001b[39;49m,\n\u001b[1;32m    136\u001b[0m     path_params,\n\u001b[1;32m    137\u001b[0m     query_params,\n\u001b[1;32m    138\u001b[0m     header_params,\n\u001b[1;32m    139\u001b[0m     body\u001b[39m=\u001b[39;49mbody_params,\n\u001b[1;32m    140\u001b[0m     post_params\u001b[39m=\u001b[39;49mform_params,\n\u001b[1;32m    141\u001b[0m     files\u001b[39m=\u001b[39;49mlocal_var_files,\n\u001b[1;32m    142\u001b[0m     response_type\u001b[39m=\u001b[39;49m\u001b[39m'\u001b[39;49m\u001b[39mV1GetHealthzResponse\u001b[39;49m\u001b[39m'\u001b[39;49m,  \u001b[39m# noqa: E501\u001b[39;49;00m\n\u001b[1;32m    143\u001b[0m     auth_settings\u001b[39m=\u001b[39;49mauth_settings,\n\u001b[1;32m    144\u001b[0m     async_req\u001b[39m=\u001b[39;49mlocal_var_params\u001b[39m.\u001b[39;49mget(\u001b[39m'\u001b[39;49m\u001b[39masync_req\u001b[39;49m\u001b[39m'\u001b[39;49m),\n\u001b[1;32m    145\u001b[0m     _return_http_data_only\u001b[39m=\u001b[39;49mlocal_var_params\u001b[39m.\u001b[39;49mget(\u001b[39m'\u001b[39;49m\u001b[39m_return_http_data_only\u001b[39;49m\u001b[39m'\u001b[39;49m),  \u001b[39m# noqa: E501\u001b[39;49;00m\n\u001b[1;32m    146\u001b[0m     _preload_content\u001b[39m=\u001b[39;49mlocal_var_params\u001b[39m.\u001b[39;49mget(\u001b[39m'\u001b[39;49m\u001b[39m_preload_content\u001b[39;49m\u001b[39m'\u001b[39;49m, \u001b[39mTrue\u001b[39;49;00m),\n\u001b[1;32m    147\u001b[0m     _request_timeout\u001b[39m=\u001b[39;49mlocal_var_params\u001b[39m.\u001b[39;49mget(\u001b[39m'\u001b[39;49m\u001b[39m_request_timeout\u001b[39;49m\u001b[39m'\u001b[39;49m),\n\u001b[1;32m    148\u001b[0m     collection_formats\u001b[39m=\u001b[39;49mcollection_formats)\n",
      "File \u001b[0;32m~/.local/lib/python3.11/site-packages/kfp_tekton_server_api/api_client.py:364\u001b[0m, in \u001b[0;36mApiClient.call_api\u001b[0;34m(self, resource_path, method, path_params, query_params, header_params, body, post_params, files, response_type, auth_settings, async_req, _return_http_data_only, collection_formats, _preload_content, _request_timeout, _host)\u001b[0m\n\u001b[1;32m    327\u001b[0m \u001b[39m\"\"\"Makes the HTTP request (synchronous) and returns deserialized data.\u001b[39;00m\n\u001b[1;32m    328\u001b[0m \n\u001b[1;32m    329\u001b[0m \u001b[39mTo make an async_req request, set the async_req parameter.\u001b[39;00m\n\u001b[0;32m   (...)\u001b[0m\n\u001b[1;32m    361\u001b[0m \u001b[39m    then the method will return the response directly.\u001b[39;00m\n\u001b[1;32m    362\u001b[0m \u001b[39m\"\"\"\u001b[39;00m\n\u001b[1;32m    363\u001b[0m \u001b[39mif\u001b[39;00m \u001b[39mnot\u001b[39;00m async_req:\n\u001b[0;32m--> 364\u001b[0m     \u001b[39mreturn\u001b[39;00m \u001b[39mself\u001b[39;49m\u001b[39m.\u001b[39;49m__call_api(resource_path, method,\n\u001b[1;32m    365\u001b[0m                            path_params, query_params, header_params,\n\u001b[1;32m    366\u001b[0m                            body, post_params, files,\n\u001b[1;32m    367\u001b[0m                            response_type, auth_settings,\n\u001b[1;32m    368\u001b[0m                            _return_http_data_only, collection_formats,\n\u001b[1;32m    369\u001b[0m                            _preload_content, _request_timeout, _host)\n\u001b[1;32m    371\u001b[0m \u001b[39mreturn\u001b[39;00m \u001b[39mself\u001b[39m\u001b[39m.\u001b[39mpool\u001b[39m.\u001b[39mapply_async(\u001b[39mself\u001b[39m\u001b[39m.\u001b[39m__call_api, (resource_path,\n\u001b[1;32m    372\u001b[0m                                                method, path_params,\n\u001b[1;32m    373\u001b[0m                                                query_params,\n\u001b[0;32m   (...)\u001b[0m\n\u001b[1;32m    381\u001b[0m                                                _request_timeout,\n\u001b[1;32m    382\u001b[0m                                                _host))\n",
      "File \u001b[0;32m~/.local/lib/python3.11/site-packages/kfp_tekton_server_api/api_client.py:188\u001b[0m, in \u001b[0;36mApiClient.__call_api\u001b[0;34m(self, resource_path, method, path_params, query_params, header_params, body, post_params, files, response_type, auth_settings, _return_http_data_only, collection_formats, _preload_content, _request_timeout, _host)\u001b[0m\n\u001b[1;32m    186\u001b[0m \u001b[39mexcept\u001b[39;00m ApiException \u001b[39mas\u001b[39;00m e:\n\u001b[1;32m    187\u001b[0m     e\u001b[39m.\u001b[39mbody \u001b[39m=\u001b[39m e\u001b[39m.\u001b[39mbody\u001b[39m.\u001b[39mdecode(\u001b[39m'\u001b[39m\u001b[39mutf-8\u001b[39m\u001b[39m'\u001b[39m) \u001b[39mif\u001b[39;00m six\u001b[39m.\u001b[39mPY3 \u001b[39melse\u001b[39;00m e\u001b[39m.\u001b[39mbody\n\u001b[0;32m--> 188\u001b[0m     \u001b[39mraise\u001b[39;00m e\n\u001b[1;32m    190\u001b[0m content_type \u001b[39m=\u001b[39m response_data\u001b[39m.\u001b[39mgetheader(\u001b[39m'\u001b[39m\u001b[39mcontent-type\u001b[39m\u001b[39m'\u001b[39m)\n\u001b[1;32m    192\u001b[0m \u001b[39mself\u001b[39m\u001b[39m.\u001b[39mlast_response \u001b[39m=\u001b[39m response_data\n",
      "File \u001b[0;32m~/.local/lib/python3.11/site-packages/kfp_tekton_server_api/api_client.py:181\u001b[0m, in \u001b[0;36mApiClient.__call_api\u001b[0;34m(self, resource_path, method, path_params, query_params, header_params, body, post_params, files, response_type, auth_settings, _return_http_data_only, collection_formats, _preload_content, _request_timeout, _host)\u001b[0m\n\u001b[1;32m    177\u001b[0m     url \u001b[39m=\u001b[39m _host \u001b[39m+\u001b[39m resource_path\n\u001b[1;32m    179\u001b[0m \u001b[39mtry\u001b[39;00m:\n\u001b[1;32m    180\u001b[0m     \u001b[39m# perform request and return response\u001b[39;00m\n\u001b[0;32m--> 181\u001b[0m     response_data \u001b[39m=\u001b[39m \u001b[39mself\u001b[39;49m\u001b[39m.\u001b[39;49mrequest(\n\u001b[1;32m    182\u001b[0m         method, url, query_params\u001b[39m=\u001b[39;49mquery_params, headers\u001b[39m=\u001b[39;49mheader_params,\n\u001b[1;32m    183\u001b[0m         post_params\u001b[39m=\u001b[39;49mpost_params, body\u001b[39m=\u001b[39;49mbody,\n\u001b[1;32m    184\u001b[0m         _preload_content\u001b[39m=\u001b[39;49m_preload_content,\n\u001b[1;32m    185\u001b[0m         _request_timeout\u001b[39m=\u001b[39;49m_request_timeout)\n\u001b[1;32m    186\u001b[0m \u001b[39mexcept\u001b[39;00m ApiException \u001b[39mas\u001b[39;00m e:\n\u001b[1;32m    187\u001b[0m     e\u001b[39m.\u001b[39mbody \u001b[39m=\u001b[39m e\u001b[39m.\u001b[39mbody\u001b[39m.\u001b[39mdecode(\u001b[39m'\u001b[39m\u001b[39mutf-8\u001b[39m\u001b[39m'\u001b[39m) \u001b[39mif\u001b[39;00m six\u001b[39m.\u001b[39mPY3 \u001b[39melse\u001b[39;00m e\u001b[39m.\u001b[39mbody\n",
      "File \u001b[0;32m~/.local/lib/python3.11/site-packages/kfp_tekton_server_api/api_client.py:389\u001b[0m, in \u001b[0;36mApiClient.request\u001b[0;34m(self, method, url, query_params, headers, post_params, body, _preload_content, _request_timeout)\u001b[0m\n\u001b[1;32m    387\u001b[0m \u001b[39m\"\"\"Makes the HTTP request using RESTClient.\"\"\"\u001b[39;00m\n\u001b[1;32m    388\u001b[0m \u001b[39mif\u001b[39;00m method \u001b[39m==\u001b[39m \u001b[39m\"\u001b[39m\u001b[39mGET\u001b[39m\u001b[39m\"\u001b[39m:\n\u001b[0;32m--> 389\u001b[0m     \u001b[39mreturn\u001b[39;00m \u001b[39mself\u001b[39;49m\u001b[39m.\u001b[39;49mrest_client\u001b[39m.\u001b[39;49mGET(url,\n\u001b[1;32m    390\u001b[0m                                 query_params\u001b[39m=\u001b[39;49mquery_params,\n\u001b[1;32m    391\u001b[0m                                 _preload_content\u001b[39m=\u001b[39;49m_preload_content,\n\u001b[1;32m    392\u001b[0m                                 _request_timeout\u001b[39m=\u001b[39;49m_request_timeout,\n\u001b[1;32m    393\u001b[0m                                 headers\u001b[39m=\u001b[39;49mheaders)\n\u001b[1;32m    394\u001b[0m \u001b[39melif\u001b[39;00m method \u001b[39m==\u001b[39m \u001b[39m\"\u001b[39m\u001b[39mHEAD\u001b[39m\u001b[39m\"\u001b[39m:\n\u001b[1;32m    395\u001b[0m     \u001b[39mreturn\u001b[39;00m \u001b[39mself\u001b[39m\u001b[39m.\u001b[39mrest_client\u001b[39m.\u001b[39mHEAD(url,\n\u001b[1;32m    396\u001b[0m                                  query_params\u001b[39m=\u001b[39mquery_params,\n\u001b[1;32m    397\u001b[0m                                  _preload_content\u001b[39m=\u001b[39m_preload_content,\n\u001b[1;32m    398\u001b[0m                                  _request_timeout\u001b[39m=\u001b[39m_request_timeout,\n\u001b[1;32m    399\u001b[0m                                  headers\u001b[39m=\u001b[39mheaders)\n",
      "File \u001b[0;32m~/.local/lib/python3.11/site-packages/kfp_tekton_server_api/rest.py:230\u001b[0m, in \u001b[0;36mRESTClientObject.GET\u001b[0;34m(self, url, headers, query_params, _preload_content, _request_timeout)\u001b[0m\n\u001b[1;32m    228\u001b[0m \u001b[39mdef\u001b[39;00m \u001b[39mGET\u001b[39m(\u001b[39mself\u001b[39m, url, headers\u001b[39m=\u001b[39m\u001b[39mNone\u001b[39;00m, query_params\u001b[39m=\u001b[39m\u001b[39mNone\u001b[39;00m, _preload_content\u001b[39m=\u001b[39m\u001b[39mTrue\u001b[39;00m,\n\u001b[1;32m    229\u001b[0m         _request_timeout\u001b[39m=\u001b[39m\u001b[39mNone\u001b[39;00m):\n\u001b[0;32m--> 230\u001b[0m     \u001b[39mreturn\u001b[39;00m \u001b[39mself\u001b[39;49m\u001b[39m.\u001b[39;49mrequest(\u001b[39m\"\u001b[39;49m\u001b[39mGET\u001b[39;49m\u001b[39m\"\u001b[39;49m, url,\n\u001b[1;32m    231\u001b[0m                         headers\u001b[39m=\u001b[39;49mheaders,\n\u001b[1;32m    232\u001b[0m                         _preload_content\u001b[39m=\u001b[39;49m_preload_content,\n\u001b[1;32m    233\u001b[0m                         _request_timeout\u001b[39m=\u001b[39;49m_request_timeout,\n\u001b[1;32m    234\u001b[0m                         query_params\u001b[39m=\u001b[39;49mquery_params)\n",
      "File \u001b[0;32m~/.local/lib/python3.11/site-packages/kfp_tekton_server_api/rest.py:224\u001b[0m, in \u001b[0;36mRESTClientObject.request\u001b[0;34m(self, method, url, query_params, headers, body, post_params, _preload_content, _request_timeout)\u001b[0m\n\u001b[1;32m    221\u001b[0m     logger\u001b[39m.\u001b[39mdebug(\u001b[39m\"\u001b[39m\u001b[39mresponse body: \u001b[39m\u001b[39m%s\u001b[39;00m\u001b[39m\"\u001b[39m, r\u001b[39m.\u001b[39mdata)\n\u001b[1;32m    223\u001b[0m \u001b[39mif\u001b[39;00m \u001b[39mnot\u001b[39;00m \u001b[39m200\u001b[39m \u001b[39m<\u001b[39m\u001b[39m=\u001b[39m r\u001b[39m.\u001b[39mstatus \u001b[39m<\u001b[39m\u001b[39m=\u001b[39m \u001b[39m299\u001b[39m:\n\u001b[0;32m--> 224\u001b[0m     \u001b[39mraise\u001b[39;00m ApiException(http_resp\u001b[39m=\u001b[39mr)\n\u001b[1;32m    226\u001b[0m \u001b[39mreturn\u001b[39;00m r\n",
      "\u001b[0;31mApiException\u001b[0m: (404)\nReason: Not Found\nHTTP response headers: HTTPHeaderDict({'content-length': '10', 'content-type': 'text/plain; charset=utf-8', 'date': 'Tue, 11 Apr 2023 16:56:18 GMT', 'gap-auth': 'rmartine@redhat.com@cluster.local', 'gap-upstream-address': 'localhost:8888', 'x-content-type-options': 'nosniff', 'set-cookie': 'fa12d710db55c225795b04e1a8c3ea79=2ca3c4c963025cb0eb926e44f3e1c32a; path=/; HttpOnly; Secure; SameSite=None', 'cache-control': 'private'})\nHTTP response body: Not Found\n\n"
     ]
    }
   ],
   "source": [
    "from kfp_tekton import TektonClient\n",
    "#kfp_client=TektonClient('http://ds-pipeline-kfpv1.apps.dsp-demo.i4g9.p1.openshiftapps.com')\n",
    "kfp_client=TektonClient('https://ds-pipeline-sample-test-project.apps.hukhan.10ak.s1.devshift.org', existing_token=\"sha256~lvJ46nY-VbNTdPZqlXKj9FI1oJNxEofz9nM0ZwIX5pk\")\n",
    "run_id = kfp_client.create_run_from_pipeline_func(world_cup_pipeline, arguments={}).run_id\n",
    "print(\"Run ID: \", run_id)"
   ]
  }
 ],
 "metadata": {
  "kernelspec": {
   "display_name": "Python 3 (ipykernel)",
   "language": "python",
   "name": "python3"
  },
  "language_info": {
   "codemirror_mode": {
    "name": "ipython",
    "version": 3
   },
   "file_extension": ".py",
   "mimetype": "text/x-python",
   "name": "python",
   "nbconvert_exporter": "python",
   "pygments_lexer": "ipython3",
   "version": "3.11.2"
  }
 },
 "nbformat": 4,
 "nbformat_minor": 5
}
