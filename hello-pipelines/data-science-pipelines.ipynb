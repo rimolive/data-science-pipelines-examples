{
 "cells": [
  {
   "cell_type": "markdown",
   "id": "b384b1e6-172e-43c0-b01b-f459a633c47a",
   "metadata": {},
   "source": [
    "# Data Science Pipelines Example\n",
    "\n",
    "## Install the pre-requisites"
   ]
  },
  {
   "cell_type": "code",
   "execution_count": null,
   "id": "c8f552dc-4b3d-41f9-9076-90dac7b36e0e",
   "metadata": {},
   "outputs": [],
   "source": [
    "!pip install -U pandas"
   ]
  },
  {
   "cell_type": "markdown",
   "id": "0f7c05a8-63ef-42c3-992a-66af2d573850",
   "metadata": {},
   "source": [
    "## Python imports"
   ]
  },
  {
   "cell_type": "code",
   "execution_count": null,
   "id": "d7cd874b-ead5-45ff-b46d-e9b31f7b6cea",
   "metadata": {},
   "outputs": [],
   "source": [
    "import kfp\n",
    "import kfp.components as components\n",
    "import kfp.dsl as dsl\n",
    "\n",
    "import glob\n",
    "import pandas as pd\n",
    "import requests\n",
    "import io\n",
    "import zipfile\n",
    "import re"
   ]
  },
  {
   "cell_type": "markdown",
   "id": "3423564d-fd44-476f-af57-1099e1274e8d",
   "metadata": {},
   "source": [
    "## Python functions to process data and train models"
   ]
  },
  {
   "cell_type": "code",
   "execution_count": null,
   "id": "26436ed4-66f8-4383-9ed5-145b799a4109",
   "metadata": {},
   "outputs": [],
   "source": [
    "def ingest_data() -> str:\n",
    "    return \"Ingest Data\"\n",
    "\n",
    "def preprocess_data(msg: str) -> str:\n",
    "    return \"preprocessed data\"\n",
    "\n",
    "def train_model_A(msg: str):\n",
    "    print(\"Model A\")\n",
    "\n",
    "def train_model_B(msg: str):\n",
    "    print(\"Model B\")"
   ]
  },
  {
   "cell_type": "markdown",
   "id": "34fed55b-d2fe-45a4-85d4-53daf76e61a3",
   "metadata": {},
   "source": [
    "## Creating the pipeline components"
   ]
  },
  {
   "cell_type": "code",
   "execution_count": null,
   "id": "dcfbad45-a1c3-4262-9bb1-f5ad49227638",
   "metadata": {},
   "outputs": [],
   "source": [
    "ingest_data_step = components.create_component_from_func(\n",
    "    func=ingest_data,\n",
    "    base_image=\"registry.redhat.io/ubi8/python-39\",\n",
    "    packages_to_install=['pandas'],)\n",
    "preprocess_data_step = components.create_component_from_func(\n",
    "    func=preprocess_data,\n",
    "    base_image=\"registry.redhat.io/ubi8/python-39\",\n",
    "    packages_to_install=['pandas'],)\n",
    "train_model_A_step = components.create_component_from_func(\n",
    "    func=train_model_A,\n",
    "    base_image=\"registry.redhat.io/ubi8/python-39\",\n",
    "    packages_to_install=['pandas'],)\n",
    "train_model_B_step = components.create_component_from_func(\n",
    "    func=train_model_B,\n",
    "    base_image=\"registry.redhat.io/ubi8/python-39\",\n",
    "    packages_to_install=['pandas'],)"
   ]
  },
  {
   "cell_type": "markdown",
   "id": "89613ac4-6104-414f-8cba-42fd8294d734",
   "metadata": {},
   "source": [
    "## Structure the Pipeline DAG"
   ]
  },
  {
   "cell_type": "code",
   "execution_count": null,
   "id": "9889dd83-7b4c-4e94-b864-f9ae7990219c",
   "metadata": {},
   "outputs": [],
   "source": [
    "@dsl.pipeline(name=\"pipeline-test\")\n",
    "def world_cup_pipeline():\n",
    "    ingest_and_process_task = ingest_data_step()\n",
    "    preprocess_data_task = preprocess_data_step(ingest_and_process_task.output)\n",
    "    train_model_A_task = train_model_A_step(preprocess_data_task.output)\n",
    "    train_model_B_task = train_model_B_step(preprocess_data_task.output)"
   ]
  },
  {
   "cell_type": "markdown",
   "id": "645d53b0-651c-40bb-9e8d-b49078736737",
   "metadata": {},
   "source": [
    "## Deploy the pipeline\n",
    "\n",
    "### Creating the pipeline definition from the compiler"
   ]
  },
  {
   "cell_type": "code",
   "execution_count": null,
   "id": "028d2de3-8d31-44ef-9643-0b9cc2c3c97c",
   "metadata": {},
   "outputs": [],
   "source": [
    "from kfp_tekton.compiler import TektonCompiler\n",
    "TektonCompiler().compile(\n",
    "    pipeline_func = world_cup_pipeline,\n",
    "    package_path = ('data-science-pipelines.yaml'))"
   ]
  },
  {
   "cell_type": "markdown",
   "id": "b59bd66a-6560-415f-bdec-6ad6be2c7ccf",
   "metadata": {},
   "source": [
    "### Connect to the Data Science Pipelines server and submit a run"
   ]
  },
  {
   "cell_type": "code",
   "execution_count": null,
   "id": "c0f78114-f818-42ee-bdaf-5c07339373d7",
   "metadata": {},
   "outputs": [],
   "source": [
    "from kfp_tekton import TektonClient\n",
    "#kfp_client=TektonClient('http://ds-pipeline-kfpv1.apps.dsp-demo.i4g9.p1.openshiftapps.com')\n",
    "kfp_client=TektonClient('https://ds-pipeline-ui-kfpv1.apps.dsp-demo.i4g9.p1.openshiftapps.com/')\n",
    "run_id = kfp_client.create_run_from_pipeline_func(world_cup_pipeline, arguments={}).run_id\n",
    "print(\"Run ID: \", run_id)"
   ]
  }
 ],
 "metadata": {
  "kernelspec": {
   "display_name": "Python 3 (ipykernel)",
   "language": "python",
   "name": "python3"
  },
  "language_info": {
   "codemirror_mode": {
    "name": "ipython",
    "version": 3
   },
   "file_extension": ".py",
   "mimetype": "text/x-python",
   "name": "python",
   "nbconvert_exporter": "python",
   "pygments_lexer": "ipython3",
   "version": "3.8.12"
  }
 },
 "nbformat": 4,
 "nbformat_minor": 5
}
